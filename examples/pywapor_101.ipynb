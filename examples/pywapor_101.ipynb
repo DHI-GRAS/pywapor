{
  "nbformat": 4,
  "nbformat_minor": 0,
  "metadata": {
    "colab": {
      "name": "pywapor_101.ipynb",
      "provenance": [],
      "toc_visible": true
    },
    "kernelspec": {
      "name": "python3",
      "display_name": "Python 3"
    },
    "language_info": {
      "name": "python"
    }
  },
  "cells": [
    {
      "cell_type": "markdown",
      "metadata": {
        "id": "XZ_9AP55KxvB"
      },
      "source": [
        "# Installation\n",
        "\n",
        "The pywapor package depends on several other packages, most of them get installed automatically when we install pywapor. The GDAL package needs to be installed manually however. Luckily, it is already installed on the backend computer used by Google Colab. We can verify that GDAL is installed by running the following commands."
      ]
    },
    {
      "cell_type": "code",
      "metadata": {
        "colab": {
          "base_uri": "https://localhost:8080/"
        },
        "id": "qTp9VSQQIHrF",
        "outputId": "26ededda-d5a8-406c-db86-728f4ce49a85"
      },
      "source": [
        "from osgeo import gdal\n",
        "print(\"Using GDAL version:\", gdal.__version__)"
      ],
      "execution_count": null,
      "outputs": [
        {
          "output_type": "stream",
          "text": [
            "Using GDAL version: 2.2.3\n"
          ],
          "name": "stdout"
        }
      ]
    },
    {
      "cell_type": "markdown",
      "metadata": {
        "id": "74aXWEzAKY2M"
      },
      "source": [
        "Now that we know that Python is able to import the GDAL package, we can install pywapor by running the following command.\n",
        "\n"
      ]
    },
    {
      "cell_type": "code",
      "metadata": {
        "id": "jW9d6wtlKKuE",
        "colab": {
          "base_uri": "https://localhost:8080/"
        },
        "outputId": "ef74d22f-3cd0-4422-ed8c-f363abb65a37"
      },
      "source": [
        "!pip install pywapor --quiet"
      ],
      "execution_count": null,
      "outputs": [
        {
          "output_type": "stream",
          "text": [
            "\u001b[K     |████████████████████████████████| 127 kB 4.7 MB/s \n",
            "\u001b[K     |████████████████████████████████| 206 kB 8.1 MB/s \n",
            "\u001b[K     |████████████████████████████████| 6.6 MB 9.1 MB/s \n",
            "\u001b[K     |████████████████████████████████| 15.4 MB 37 kB/s \n",
            "\u001b[K     |████████████████████████████████| 405 kB 46.3 MB/s \n",
            "\u001b[K     |████████████████████████████████| 222 kB 58.9 MB/s \n",
            "\u001b[K     |████████████████████████████████| 219 kB 47.3 MB/s \n",
            "\u001b[K     |████████████████████████████████| 63 kB 2.2 MB/s \n",
            "\u001b[K     |████████████████████████████████| 3.2 MB 41.2 MB/s \n",
            "\u001b[K     |████████████████████████████████| 961 kB 35.8 MB/s \n",
            "\u001b[?25h  Building wheel for pycurl (setup.py) ... \u001b[?25l\u001b[?25hdone\n",
            "  Building wheel for pyshp (setup.py) ... \u001b[?25l\u001b[?25hdone\n"
          ],
          "name": "stdout"
        }
      ]
    },
    {
      "cell_type": "markdown",
      "metadata": {
        "id": "fzHQsJcy76iH"
      },
      "source": [
        "If everything went well, we can now import pywapor in Python, let's try it (fingers crossed)!"
      ]
    },
    {
      "cell_type": "code",
      "metadata": {
        "colab": {
          "base_uri": "https://localhost:8080/"
        },
        "id": "arxHuGoAKcxH",
        "outputId": "28638cf1-b29b-4e53-cb24-c88f180ce62b"
      },
      "source": [
        "import pywapor\n",
        "print(\"Using pywapor version:\", pywapor.__version__)"
      ],
      "execution_count": null,
      "outputs": [
        {
          "output_type": "stream",
          "text": [
            "Using pywapor version: 2.1.1\n"
          ],
          "name": "stdout"
        }
      ]
    },
    {
      "cell_type": "markdown",
      "metadata": {
        "id": "MiqFKqNmK9m0"
      },
      "source": [
        "# ETLook Input\n",
        "\n",
        "In order to run the ETLook model, we first need to collect the necessary inputs. Two types of spatial data are required, temporal and static data. \n",
        "\n",
        "The functions `get_static_input_data_reqs()` and `get_temp_input_data_reqs()` can give you two lists with information (such as the required filenames, units, etc.) about these inputs.\n",
        "\n",
        "\n",
        "\n",
        "\n",
        "\n",
        "\n",
        "\n",
        "\n",
        "\n",
        "\n",
        "\n"
      ]
    },
    {
      "cell_type": "code",
      "metadata": {
        "colab": {
          "base_uri": "https://localhost:8080/"
        },
        "id": "7ZCQxr8EOhEc",
        "outputId": "1427a6a4-6732-4c78-9082-ce8e25a4b21b"
      },
      "source": [
        "static_data_req = pywapor.general.variables.get_static_input_data_reqs()\n",
        "temporal_data_req = pywapor.general.variables.get_temp_input_data_reqs()\n",
        "\n",
        "print(\"--STATIC DATA REQ.--\")\n",
        "for i, variable in enumerate(static_data_req):\n",
        "  print(i, variable[\"name\"], variable[\"unit\"])\n",
        "\n",
        "print(\"\\n --TEMPORAL DATA REQ.--\")\n",
        "for i, variable in enumerate(temporal_data_req):\n",
        "  print(i, variable[\"name\"], variable[\"unit\"])\n",
        "\n"
      ],
      "execution_count": null,
      "outputs": [
        {
          "output_type": "stream",
          "text": [
            "--STATIC DATA REQ.--\n",
            "0 Latitude [DD]\n",
            "1 Longitude [DD]\n",
            "2 Slope [degrees]\n",
            "3 Slope Aspect [degrees]\n",
            "4 Bulk Stomatal Resistance [s/m]\n",
            "5 Digital Elevation Model [m.a.s.l]\n",
            "6 Landmask [-]\n",
            "7 Maximum Light Use Efficiency [gr/MJ]\n",
            "8 Maximum Obstacle Height [m]\n",
            "9 Air Temperature (yearly amplitude) [K]\n",
            "\n",
            " --TEMPORAL DATA REQ.--\n",
            "0 Albedo [-]\n",
            "1 Land Surface Temperature [K]\n",
            "2 Normalized Difference Vegetation Index [-]\n",
            "3 Air Pressure at sea level (daily average) [kPa]\n",
            "4 Air Pressure at sea level (instanteneous) [kPa]\n",
            "5 Air Pressure at surface level (instanteneous) [kPa]\n",
            "6 Precipitation [mm/day]\n",
            "7 Specific Humidity (daily average) [kg/kg]\n",
            "8 Specific Humidity (instanteneous) [kg/kg]\n",
            "9 Air Temperature (daily average) [C]\n",
            "10 Air Temperature (instanteneous) [C]\n",
            "11 Air Temperature (daily maximum) [C]\n",
            "12 Air Temperature (daily minimum) [C]\n",
            "13 Transmissivity [-]\n",
            "14 Windspeed (daily average) [m/s]\n",
            "15 Windspeed (instanteneous) [m/s]\n",
            "16 Total Precipitable Water Vapout [mm]\n",
            "17 Instantaneous Data Time [hour]\n"
          ],
          "name": "stdout"
        }
      ]
    },
    {
      "cell_type": "markdown",
      "metadata": {
        "id": "6YjnTA_pFVaI"
      },
      "source": [
        "Each of these variables can be collected from whichever source you wish to use, as long as you make sure the units are correct, the data is stored as a GeoTIFF (1 band per file, 1 file for each variable and date), the files all have the same no-data-value and they all have the same projection and resolution.\n",
        "\n",
        "For your convenience, the pywapor package has a function that can collect all this data from selected sources (using the [watertools package](https://github.com/TimHessels/watertools), with which you can also download many other datasets) and make sure the data is stored in the correct format and folder structure. \n",
        "\n",
        "Because some of the data portals used require a user to login with a username and a password, we first need to set those up. In this Notebook, we will need a `NASA Eearthdata Login` to collect MODIS, CHIRPS and MERRA2 datasets, which can be created [over here](https://urs.earthdata.nasa.gov/users/new).\n",
        "\n",
        "> ⚠️ \n",
        "\n",
        "> After creating your account, you still need to accept some 'Terms of Use', before you can continue with this notebook. To do that, login to your newly created account and go to:\n",
        "\n",
        "> `Applications > Authorized Apps > Approve More Applications`\n",
        "\n",
        "> There, make sure the two following applications are authorized:\n",
        "1. `NASA GESDISC DATA ARCHIVE`\n",
        "2. `LP DAAC Data Pool`\n",
        "\n",
        "> ⚠️\n",
        "\n",
        "Once you have your account set up that, we can enter our username and password by running the following code.\n"
      ]
    },
    {
      "cell_type": "code",
      "metadata": {
        "id": "lsGTGdVcLbqQ",
        "colab": {
          "base_uri": "https://localhost:8080/"
        },
        "outputId": "f41e39b9-faa2-4735-c1c7-207e2dd55785"
      },
      "source": [
        "import watertools\n",
        "watertools.Set_Up_watertools.create_key()\n",
        "watertools.Set_Up_watertools.set_up_account(\"NASA\")"
      ],
      "execution_count": null,
      "outputs": [
        {
          "output_type": "stream",
          "text": [
            "Type in your account username for NASAbroodj3ham\n",
            "Type in your password for NASAN0tmyrealpassword\n"
          ],
          "name": "stdout"
        },
        {
          "output_type": "execute_result",
          "data": {
            "text/plain": [
              "()"
            ]
          },
          "metadata": {
            "tags": []
          },
          "execution_count": 5
        }
      ]
    },
    {
      "cell_type": "markdown",
      "metadata": {
        "id": "FsytfW9hKgQG"
      },
      "source": [
        "Now we can run a little test to see if the username and password are correct and the required applications have been authorized."
      ]
    },
    {
      "cell_type": "code",
      "metadata": {
        "colab": {
          "base_uri": "https://localhost:8080/"
        },
        "id": "j-2sW_m3Kple",
        "outputId": "539e6721-e02e-4e5d-94af-059b98ada224"
      },
      "source": [
        "succes = pywapor.general.tests.nasa_account()\n",
        "\n",
        "check_cross = {True: \"\\U00002705\", False: \"\\U0000274C\"}\n",
        "\n",
        "print(\"NASA-account working:\", check_cross[succes])"
      ],
      "execution_count": null,
      "outputs": [
        {
          "output_type": "stream",
          "text": [
            "NASA-account working: ✅\n"
          ],
          "name": "stdout"
        }
      ]
    },
    {
      "cell_type": "markdown",
      "metadata": {
        "id": "2m5yrTgrGO5P"
      },
      "source": [
        "If that works, then its finally time to download some data! \n",
        "\n",
        "First we define a `startdate` and `enddate`, our boundingbox through `latlim` and `lonlim` and we give a `project_folder` in which all our data will be stored. Here I've chosen an `enddate` identical to the `startdate`, so we will only process 1 day (i.e. the 7th of July, 2019). The given boundingbox will show us the Fayoum irrigation scheme in Egypt.\n",
        "\n",
        "Then we can run `pywapor.pre_et_look.main()` to start the downloading."
      ]
    },
    {
      "cell_type": "code",
      "metadata": {
        "colab": {
          "base_uri": "https://localhost:8080/"
        },
        "id": "nPaqrdS2Kol7",
        "outputId": "33d64d0c-0dad-43be-8993-2956ec1febf7"
      },
      "source": [
        "startdate = \"2019-07-07\"\n",
        "enddate = \"2019-07-07\"\n",
        "latlim = [29.0, 29.6]\n",
        "lonlim = [30.3, 31.1]\n",
        "project_folder = r\"/my_first_ETLook_run/\"\n",
        "\n",
        "pywapor.pre_et_look.main(project_folder, startdate, enddate, latlim, lonlim)"
      ],
      "execution_count": null,
      "outputs": [
        {
          "output_type": "stream",
          "text": [
            "\n",
            "Download daily MODIS land surface temperature data for period 2019-07-07 till 2019-07-07\n",
            "Progress: |██████████████████████████████████████████████████| 100.0% Complete\n",
            "\n",
            "Download daily MODIS land surface temperature data for period 2019-07-07 till 2019-07-07\n",
            "Progress: |██████████████████████████████████████████████████| 100.0% Complete\n",
            "\n",
            "Download 16-daily MODIS NDVI data for period 2019-06-29 till 2019-07-15\n",
            "Progress: |██████████████████████████████████████████████████| 100.0% Complete\n",
            "\n",
            "Download 16-daily MODIS NDVI data for period 2019-06-29 till 2019-07-15\n",
            "Progress: |██████████████████████████████████████████████████| 100.0% Complete\n",
            "Download Albedo\n",
            "\n",
            "Download daily MODIS Albedo data for period 2019-07-07 till 2019-07-07\n",
            "Progress: |██████████████████████████████████████████████████| 100.0% Complete\n",
            "Download CHIRPS\n",
            "\n",
            "Download daily CHIRPS rainfall data for the period 2019-07-07 till 2019-07-07\n",
            "Progress: |██████████████████████████████████████████████████| 100.0% Complete\n",
            "\n",
            "Download SRTM altitude map with a resolution of 3s\n",
            "Progress: |██████████████████████████████████████████████████| 100.0% Complete\n",
            "\n",
            "Download Globcover landcover map\n",
            "Progress: |██████████████████████████████████████████████████| 100.0% Complete\n",
            "download temperature amplitudes from google drive\n",
            "\n",
            "Downloading daily MERRA u2m data for the period 2019-07-07 00:00:00 till 2019-07-07 23:59:00\n",
            "Progress: |██████████████████████████████████████████████████| 100.0% Complete\n",
            "\n",
            "Downloading daily MERRA v2m data for the period 2019-07-07 00:00:00 till 2019-07-07 23:59:00\n",
            "Progress: |██████████████████████████████████████████████████| 100.0% Complete\n",
            "\n",
            "Downloading daily MERRA q2m data for the period 2019-07-07 00:00:00 till 2019-07-07 23:59:00\n",
            "Progress: |██████████████████████████████████████████████████| 100.0% Complete\n",
            "\n",
            "Downloading daily MERRA tpw data for the period 2019-07-07 00:00:00 till 2019-07-07 23:59:00\n",
            "Progress: |██████████████████████████████████████████████████| 100.0% Complete\n",
            "\n",
            "Downloading daily MERRA ps data for the period 2019-07-07 00:00:00 till 2019-07-07 23:59:00\n",
            "Progress: |██████████████████████████████████████████████████| 100.0% Complete\n",
            "\n",
            "Downloading daily MERRA slp data for the period 2019-07-07 00:00:00 till 2019-07-07 23:59:00\n",
            "Progress: |██████████████████████████████████████████████████| 100.0% Complete\n",
            "\n",
            "Downloading hourly MERRA t2m data for the period 2019-07-07 00:00:00 till 2019-07-07 23:59:00, Period = 10\n",
            "Progress: |██████████████████████████████████████████████████| 100.0% Complete\n",
            "\n",
            "Downloading hourly MERRA t2m data for the period 2019-07-07 00:00:00 till 2019-07-07 23:59:00, Period = 13\n",
            "Progress: |██████████████████████████████████████████████████| 100.0% Complete\n",
            "\n",
            "Downloading hourly MERRA u2m data for the period 2019-07-07 00:00:00 till 2019-07-07 23:59:00, Period = 10\n",
            "Progress: |██████████████████████████████████████████████████| 100.0% Complete\n",
            "\n",
            "Downloading hourly MERRA u2m data for the period 2019-07-07 00:00:00 till 2019-07-07 23:59:00, Period = 13\n",
            "Progress: |██████████████████████████████████████████████████| 100.0% Complete\n",
            "\n",
            "Downloading hourly MERRA v2m data for the period 2019-07-07 00:00:00 till 2019-07-07 23:59:00, Period = 10\n",
            "Progress: |██████████████████████████████████████████████████| 100.0% Complete\n",
            "\n",
            "Downloading hourly MERRA v2m data for the period 2019-07-07 00:00:00 till 2019-07-07 23:59:00, Period = 13\n",
            "Progress: |██████████████████████████████████████████████████| 100.0% Complete\n",
            "\n",
            "Downloading hourly MERRA q2m data for the period 2019-07-07 00:00:00 till 2019-07-07 23:59:00, Period = 10\n",
            "Progress: |██████████████████████████████████████████████████| 100.0% Complete\n",
            "\n",
            "Downloading hourly MERRA q2m data for the period 2019-07-07 00:00:00 till 2019-07-07 23:59:00, Period = 13\n",
            "Progress: |██████████████████████████████████████████████████| 100.0% Complete\n",
            "\n",
            "Downloading hourly MERRA tpw data for the period 2019-07-07 00:00:00 till 2019-07-07 23:59:00, Period = 10\n",
            "Progress: |██████████████████████████████████████████████████| 100.0% Complete\n",
            "\n",
            "Downloading hourly MERRA tpw data for the period 2019-07-07 00:00:00 till 2019-07-07 23:59:00, Period = 13\n",
            "Progress: |██████████████████████████████████████████████████| 100.0% Complete\n",
            "\n",
            "Downloading hourly MERRA ps data for the period 2019-07-07 00:00:00 till 2019-07-07 23:59:00, Period = 10\n",
            "Progress: |██████████████████████████████████████████████████| 100.0% Complete\n",
            "\n",
            "Downloading hourly MERRA ps data for the period 2019-07-07 00:00:00 till 2019-07-07 23:59:00, Period = 13\n",
            "Progress: |██████████████████████████████████████████████████| 100.0% Complete\n",
            "\n",
            "Downloading hourly MERRA slp data for the period 2019-07-07 00:00:00 till 2019-07-07 23:59:00, Period = 10\n",
            "Progress: |██████████████████████████████████████████████████| 100.0% Complete\n",
            "\n",
            "Downloading hourly MERRA slp data for the period 2019-07-07 00:00:00 till 2019-07-07 23:59:00, Period = 13\n",
            "Progress: |██████████████████████████████████████████████████| 100.0% Complete\n",
            "\n",
            "Downloading daily MERRA t2m data for the period 2019-07-07 00:00:00 till 2019-07-07 23:59:00\n",
            "Progress: |██████████████████████████████████████████████████| 100.0% Complete\n",
            "\n",
            "Downloading daily MERRA swgnet data for the period 2019-07-07 00:00:00 till 2019-07-07 23:59:00\n",
            "Progress: |██████████████████████████████████████████████████| 100.0% Complete\n"
          ],
          "name": "stdout"
        },
        {
          "output_type": "execute_result",
          "data": {
            "text/plain": [
              "()"
            ]
          },
          "metadata": {
            "tags": []
          },
          "execution_count": 7
        }
      ]
    },
    {
      "cell_type": "markdown",
      "metadata": {
        "id": "Tm7SaBW9d_6x"
      },
      "source": [
        "After downloading the files, we can check if all the required files exist. Using the [`ls` unix command](https://en.wikipedia.org/wiki/Ls), we can see the contents of a folder, and with the asterices we can see the contents of recursive folders. Our `project_folder` now contains the following subdirectories and files.\n",
        "\n",
        "> Actually, it also contains a folder called `RAW`, which you can see by running `!ls */*` instead. This folder holds some intermediate files that were used to create the final ETLook inputs.\n",
        "\n"
      ]
    },
    {
      "cell_type": "code",
      "metadata": {
        "colab": {
          "base_uri": "https://localhost:8080/"
        },
        "id": "2cnYOlMN9dDb",
        "outputId": "3898ca8e-146d-4210-c30b-7e446a8c1a1f"
      },
      "source": [
        "!ls ETLook*/*"
      ],
      "execution_count": null,
      "outputs": [
        {
          "output_type": "stream",
          "text": [
            "ETLook_input_MODIS/20190707:\n",
            "ALBEDO_20190707.tif\t  Precipitation_20190707.tif  tair_min_24_20190707.tif\n",
            "LST_20190707.tif\t  qv_24_20190707.tif\t      Time_20190707.tif\n",
            "NDVI_20190707.tif\t  qv_inst_20190707.tif\t      Trans_24_20190707.tif\n",
            "Pair_24_0_20190707.tif\t  tair_24_20190707.tif\t      wind_24_20190707.tif\n",
            "Pair_inst_0_20190707.tif  tair_inst_20190707.tif      wind_inst_20190707.tif\n",
            "Pair_inst_20190707.tif\t  tair_max_24_20190707.tif    wv_inst_20190707.tif\n",
            "\n",
            "ETLook_input_MODIS/Static:\n",
            "Aspect.tif\t\t\t   Lon.tif\n",
            "Bulk_Stomatal_resistance_2019.tif  LUEmax_2019.tif\n",
            "DEM.tif\t\t\t\t   Maximum_Obstacle_Height_2019.tif\n",
            "LandMask_2019.tif\t\t   Slope.tif\n",
            "Lat.tif\t\t\t\t   Tair_amp_2019.tif\n"
          ],
          "name": "stdout"
        }
      ]
    },
    {
      "cell_type": "markdown",
      "metadata": {
        "id": "gMUr0r7Z-zh3"
      },
      "source": [
        "Using the lists we aqcuired earlier (`temporal_data_req` and `static_data_req`), we can also explicitly check if all the required data is there.\n"
      ]
    },
    {
      "cell_type": "code",
      "metadata": {
        "colab": {
          "base_uri": "https://localhost:8080/"
        },
        "id": "V1x9ZTUWLson",
        "outputId": "8f942d30-d7b7-492b-aded-4aa39b211730"
      },
      "source": [
        "import os\n",
        "\n",
        "year, month, day = startdate.split(\"-\")\n",
        "ETLook_input_folder = os.path.join(project_folder, \"ETLook_input_MODIS\")\n",
        "\n",
        "print(\"\\n --STATIC DATA REQ.--\")\n",
        "for i, variable in enumerate(static_data_req):\n",
        "  path = variable[\"filepath\"].format(input_folder = ETLook_input_folder, \n",
        "                                     year = year, \n",
        "                                     month = month, \n",
        "                                     day = day)\n",
        "  yesno = check_cross[os.path.isfile(path)]\n",
        "  print(i, yesno, path)\n",
        "\n",
        "print(\"\\n --TEMPORAL DATA REQ.--\")\n",
        "for i, variable in enumerate(temporal_data_req):\n",
        "  path = variable[\"filepath\"].format(input_folder = ETLook_input_folder, \n",
        "                                     year = year, \n",
        "                                     month = month, \n",
        "                                     day = day)\n",
        "  yesno = check_cross[os.path.isfile(path)]\n",
        "  print(i, yesno, path)\n",
        "\n",
        "\n",
        "\n"
      ],
      "execution_count": null,
      "outputs": [
        {
          "output_type": "stream",
          "text": [
            "\n",
            " --STATIC DATA REQ.--\n",
            "0 ✅ /my_first_ETLook_run/ETLook_input_MODIS/Static/Lat.tif\n",
            "1 ✅ /my_first_ETLook_run/ETLook_input_MODIS/Static/Lon.tif\n",
            "2 ✅ /my_first_ETLook_run/ETLook_input_MODIS/Static/Slope.tif\n",
            "3 ✅ /my_first_ETLook_run/ETLook_input_MODIS/Static/Aspect.tif\n",
            "4 ✅ /my_first_ETLook_run/ETLook_input_MODIS/Static/Bulk_Stomatal_resistance_2019.tif\n",
            "5 ✅ /my_first_ETLook_run/ETLook_input_MODIS/Static/DEM.tif\n",
            "6 ✅ /my_first_ETLook_run/ETLook_input_MODIS/Static/LandMask_2019.tif\n",
            "7 ✅ /my_first_ETLook_run/ETLook_input_MODIS/Static/LUEmax_2019.tif\n",
            "8 ✅ /my_first_ETLook_run/ETLook_input_MODIS/Static/Maximum_Obstacle_Height_2019.tif\n",
            "9 ✅ /my_first_ETLook_run/ETLook_input_MODIS/Static/Tair_amp_2019.tif\n",
            "\n",
            " --TEMPORAL DATA REQ.--\n",
            "0 ✅ /my_first_ETLook_run/ETLook_input_MODIS/20190707/ALBEDO_20190707.tif\n",
            "1 ✅ /my_first_ETLook_run/ETLook_input_MODIS/20190707/LST_20190707.tif\n",
            "2 ✅ /my_first_ETLook_run/ETLook_input_MODIS/20190707/NDVI_20190707.tif\n",
            "3 ✅ /my_first_ETLook_run/ETLook_input_MODIS/20190707/Pair_24_0_20190707.tif\n",
            "4 ✅ /my_first_ETLook_run/ETLook_input_MODIS/20190707/Pair_inst_0_20190707.tif\n",
            "5 ✅ /my_first_ETLook_run/ETLook_input_MODIS/20190707/Pair_inst_20190707.tif\n",
            "6 ✅ /my_first_ETLook_run/ETLook_input_MODIS/20190707/Precipitation_20190707.tif\n",
            "7 ✅ /my_first_ETLook_run/ETLook_input_MODIS/20190707/qv_24_20190707.tif\n",
            "8 ✅ /my_first_ETLook_run/ETLook_input_MODIS/20190707/qv_inst_20190707.tif\n",
            "9 ✅ /my_first_ETLook_run/ETLook_input_MODIS/20190707/tair_24_20190707.tif\n",
            "10 ✅ /my_first_ETLook_run/ETLook_input_MODIS/20190707/tair_inst_20190707.tif\n",
            "11 ✅ /my_first_ETLook_run/ETLook_input_MODIS/20190707/tair_max_24_20190707.tif\n",
            "12 ✅ /my_first_ETLook_run/ETLook_input_MODIS/20190707/tair_min_24_20190707.tif\n",
            "13 ✅ /my_first_ETLook_run/ETLook_input_MODIS/20190707/Trans_24_20190707.tif\n",
            "14 ✅ /my_first_ETLook_run/ETLook_input_MODIS/20190707/wind_24_20190707.tif\n",
            "15 ✅ /my_first_ETLook_run/ETLook_input_MODIS/20190707/wind_inst_20190707.tif\n",
            "16 ✅ /my_first_ETLook_run/ETLook_input_MODIS/20190707/wv_inst_20190707.tif\n",
            "17 ✅ /my_first_ETLook_run/ETLook_input_MODIS/20190707/Time_20190707.tif\n"
          ],
          "name": "stdout"
        }
      ]
    },
    {
      "cell_type": "markdown",
      "metadata": {
        "id": "DDcpwCU-DPtp"
      },
      "source": [
        "Now that we know that all the required files exist, it is also a good idea to check if there is any data inside those files! For all we know right now, they might just be a bunch of empty files.\n",
        "\n",
        "We can create a simple map using the code below, notice that the idx variable refers to the numbers seen above next to the different inputs, e.g. `idx = 1` refers to `Land Surface Temperature`."
      ]
    },
    {
      "cell_type": "code",
      "metadata": {
        "id": "wVYtgrMUDh7o",
        "colab": {
          "base_uri": "https://localhost:8080/",
          "height": 265
        },
        "outputId": "7b37e9de-2499-4bd6-a9a7-adef87b46ba0"
      },
      "source": [
        "idx = 1\n",
        "\n",
        "variable = temporal_data_req[idx]\n",
        "\n",
        "quantity = variable[\"quantity\"]\n",
        "unit = variable[\"unit\"]\n",
        "tif_file = variable[\"filepath\"].format(input_folder = ETLook_input_folder, \n",
        "                                        year = year, \n",
        "                                        month = month, \n",
        "                                        day = day)\n",
        "\n",
        "pywapor.general.plot.tif(tif_file, quantity, unit)"
      ],
      "execution_count": null,
      "outputs": [
        {
          "output_type": "display_data",
          "data": {
            "image/png": "[encoded data removed]",
            "text/plain": [
              "<Figure size 432x288 with 2 Axes>"
            ]
          },
          "metadata": {
            "tags": [],
            "needs_background": "light"
          }
        }
      ]
    },
    {
      "cell_type": "markdown",
      "metadata": {
        "id": "4Gbe46u9IvMW"
      },
      "source": [
        "Now that we have all the required input files its time to run the actual model!"
      ]
    },
    {
      "cell_type": "markdown",
      "metadata": {
        "id": "s0VaOK65I4Gi"
      },
      "source": [
        "# Running ETLook\n",
        "\n",
        "To run the model, we need to give three inputs to `pywapor.et_look_code.main()`:\n",
        "\n",
        "1.   The `input_folder`, wich we already defined above as `ETLook_input_folder`.\n",
        "2.   An `output_folder`, in which the model outputs will be stored.\n",
        "3.   And finally, the `date` for which to run the model, defined as a [datetime-object](https://docs.python.org/3/library/datetime.html)."
      ]
    },
    {
      "cell_type": "code",
      "metadata": {
        "id": "cJpRk0dkJ4El",
        "colab": {
          "base_uri": "https://localhost:8080/"
        },
        "outputId": "3b8b8037-1445-46f1-b967-b5908956eabb"
      },
      "source": [
        "import datetime as dt\n",
        "\n",
        "ETLook_output_folder = os.path.join(project_folder, \"ETLook_output_MODIS\")\n",
        "date = dt.datetime.strptime(startdate, \"%Y-%m-%d\")\n",
        "\n",
        "pywapor.et_look_code.main(ETLook_input_folder, ETLook_output_folder, date)"
      ],
      "execution_count": null,
      "outputs": [
        {
          "output_type": "stream",
          "text": [
            "'se_root' not found.\n",
            "USING ETLook_v2\n"
          ],
          "name": "stdout"
        }
      ]
    },
    {
      "cell_type": "markdown",
      "metadata": {
        "id": "MLf3M4liMGdF"
      },
      "source": [
        "You'll see an message indicating that `'se_root'` was `not found`. This is no problem, ETLook can calculate `se_root` with the inputs we've provided, but it can also be given as input in case you have some great soil moisture dataset lying around.\n",
        "\n",
        "Now that the model is finished, we can check again if any new files have been created, just like we did before."
      ]
    },
    {
      "cell_type": "code",
      "metadata": {
        "id": "quvj1cR3K0iQ",
        "colab": {
          "base_uri": "https://localhost:8080/"
        },
        "outputId": "4c0c42b8-6a85-4058-d820-0903d932e010"
      },
      "source": [
        "!ls ETLook*/*"
      ],
      "execution_count": null,
      "outputs": [
        {
          "output_type": "stream",
          "text": [
            "ETLook_input_MODIS/20190707:\n",
            "ALBEDO_20190707.tif\t  Precipitation_20190707.tif  tair_min_24_20190707.tif\n",
            "LST_20190707.tif\t  qv_24_20190707.tif\t      Time_20190707.tif\n",
            "NDVI_20190707.tif\t  qv_inst_20190707.tif\t      Trans_24_20190707.tif\n",
            "Pair_24_0_20190707.tif\t  tair_24_20190707.tif\t      wind_24_20190707.tif\n",
            "Pair_inst_0_20190707.tif  tair_inst_20190707.tif      wind_inst_20190707.tif\n",
            "Pair_inst_20190707.tif\t  tair_max_24_20190707.tif    wv_inst_20190707.tif\n",
            "\n",
            "ETLook_input_MODIS/Static:\n",
            "Aspect.tif\t\t\t   Lon.tif\n",
            "Bulk_Stomatal_resistance_2019.tif  LUEmax_2019.tif\n",
            "DEM.tif\t\t\t\t   Maximum_Obstacle_Height_2019.tif\n",
            "LandMask_2019.tif\t\t   Slope.tif\n",
            "Lat.tif\t\t\t\t   Tair_amp_2019.tif\n",
            "\n",
            "ETLook_output_MODIS/20190707:\n",
            "e_24_mm_20190707.tif\t   int_mm_20190707.tif\t    t_24_mm_20190707.tif\n",
            "et_24_mm_20190707.tif\t   se_root_20190707.tif     vc_20190707.tif\n",
            "et_ref_24_mm_20190707.tif  stress_vpd_20190707.tif\n"
          ],
          "name": "stdout"
        }
      ]
    },
    {
      "cell_type": "markdown",
      "metadata": {
        "id": "lN3V9RNAMTLu"
      },
      "source": [
        "If everything went well, there should be a new folder called `ETLook_output_MODIS`, showing several output files that have been created.\n",
        "\n"
      ]
    },
    {
      "cell_type": "markdown",
      "metadata": {
        "id": "WaBldQ7xMvJs"
      },
      "source": [
        "# ETLook Output\n",
        "\n",
        "Like we did before, we can plot a map by giving a path to a tif-file."
      ]
    },
    {
      "cell_type": "code",
      "metadata": {
        "id": "2cWvCeCALCMb"
      },
      "source": [
        "date_string = date.strftime(\"%Y%m%d\")\n",
        "\n",
        "tif_file = os.path.join(ETLook_output_folder, \n",
        "                        date_string, \n",
        "                        f\"et_24_mm_{date_string}.tif\")\n",
        "\n",
        "quantity = \"Evapotranspiration\"\n",
        "unit = \"[mm/day]\"\n",
        "\n",
        "pywapor.general.plot.tif(tif_file, quantity, unit)"
      ],
      "execution_count": null,
      "outputs": []
    },
    {
      "cell_type": "markdown",
      "metadata": {
        "id": "PCBZks2RM4pt"
      },
      "source": [
        "Or we can open the map to calculate some statistics."
      ]
    },
    {
      "cell_type": "code",
      "metadata": {
        "id": "o5_eJdngNBS_"
      },
      "source": [
        "import numpy as np\n",
        "\n",
        "ds = gdal.Open(tif_file)\n",
        "array = ds.GetRasterBand(1).ReadAsArray()\n",
        "\n",
        "print(\"resolution:\", array.shape)\n",
        "print(\"total pixels:\", array.size)\n",
        "print(\"number of pixels with missing data:\", np.sum(np.isnan(array)))\n",
        "print(\"maximum value: {0:.2f}\".format(np.nanmax(array)))\n",
        "print(\"minimum value: {0:.2f}\".format(np.nanmin(array)))\n",
        "print(\"mean: {0:.2f}\".format(np.nanmean(array)))\n",
        "print(\"median: {0:.2f}\".format(np.nanmedian(array)))\n"
      ],
      "execution_count": null,
      "outputs": []
    },
    {
      "cell_type": "markdown",
      "metadata": {
        "id": "xqM3MphtOVg4"
      },
      "source": [
        "And plot a histogram."
      ]
    },
    {
      "cell_type": "code",
      "metadata": {
        "id": "ro95j9raOe3g"
      },
      "source": [
        "import matplotlib.pyplot as plt\n",
        "\n",
        "array = array[np.isfinite(array)]\n",
        "histogram = plt.hist(array, bins = 30, zorder = 10)\n",
        "title = plt.title(\"n = {0}\".format(array.size))\n",
        "plt.gca().set_facecolor(\"lightgray\")\n",
        "plt.grid(zorder = 0)\n",
        "xlabel = plt.xlabel(\"Evapotranspiration [mm/day]\")\n",
        "ylabel = plt.ylabel(\"Number of pixels [-]\")\n"
      ],
      "execution_count": null,
      "outputs": []
    }
  ]
}